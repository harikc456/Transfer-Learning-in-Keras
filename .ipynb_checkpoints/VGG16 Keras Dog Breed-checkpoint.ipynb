{
 "cells": [
  {
   "cell_type": "code",
   "execution_count": 1,
   "metadata": {
    "colab": {
     "autoexec": {
      "startup": false,
      "wait_interval": 0
     },
     "base_uri": "https://localhost:8080/",
     "height": 34
    },
    "colab_type": "code",
    "executionInfo": {
     "elapsed": 8343,
     "status": "ok",
     "timestamp": 1533308894562,
     "user": {
      "displayName": "Hari Krishnan",
      "photoUrl": "https://lh3.googleusercontent.com/a/default-user=s128",
      "userId": "116369642993621286939"
     },
     "user_tz": -330
    },
    "id": "TPgogXk6c_NA",
    "outputId": "45da4542-b9cf-47ed-d752-e539447f8fbb"
   },
   "outputs": [
    {
     "name": "stderr",
     "output_type": "stream",
     "text": [
      "Using TensorFlow backend.\n"
     ]
    }
   ],
   "source": [
    "import numpy as np\n",
    "import os\n",
    "import pickle\n",
    "from keras.models import Sequential\n",
    "from keras.layers import Dense, Dropout, Flatten\n",
    "from keras.layers import Conv2D, MaxPooling2D,Activation\n",
    "from keras.layers.normalization import BatchNormalization\n",
    "from keras import optimizers\n",
    "from keras import losses\n",
    "from keras.applications.vgg16 import VGG16"
   ]
  },
  {
   "cell_type": "code",
   "execution_count": 10,
   "metadata": {
    "colab": {
     "autoexec": {
      "startup": false,
      "wait_interval": 0
     },
     "base_uri": "https://localhost:8080/",
     "height": 34
    },
    "colab_type": "code",
    "executionInfo": {
     "elapsed": 1758,
     "status": "ok",
     "timestamp": 1533309072066,
     "user": {
      "displayName": "Hari Krishnan",
      "photoUrl": "https://lh3.googleusercontent.com/a/default-user=s128",
      "userId": "116369642993621286939"
     },
     "user_tz": -330
    },
    "id": "gfUD4gwpdGtD",
    "outputId": "8c5e5015-53de-4280-ad61-818940929790"
   },
   "outputs": [
    {
     "data": {
      "text/plain": [
       "\"f=open('test_data.npz','rb')\\nnpzfile = np.load(f)\\ntest_images=npzfile['arr_0']\""
      ]
     },
     "execution_count": 10,
     "metadata": {
      "tags": []
     },
     "output_type": "execute_result"
    }
   ],
   "source": [
    "f=open('train_data1.npz','rb')\n",
    "npzfile = np.load(f)\n",
    "images=npzfile['arr_0']\n",
    "labels=npzfile['arr_1']"
   ]
  },
  {
   "cell_type": "code",
   "execution_count": 12,
   "metadata": {
    "colab": {
     "autoexec": {
      "startup": false,
      "wait_interval": 0
     },
     "base_uri": "https://localhost:8080/",
     "height": 51
    },
    "colab_type": "code",
    "executionInfo": {
     "elapsed": 1615,
     "status": "ok",
     "timestamp": 1533309092715,
     "user": {
      "displayName": "Hari Krishnan",
      "photoUrl": "https://lh3.googleusercontent.com/a/default-user=s128",
      "userId": "116369642993621286939"
     },
     "user_tz": -330
    },
    "id": "F4a0Nveh9vTB",
    "outputId": "df2b5d79-9dd7-4901-eabc-7e7ebc2ae66d"
   },
   "outputs": [
    {
     "name": "stdout",
     "output_type": "stream",
     "text": [
      "(8382, 64, 64, 3)\n",
      "(1840, 64, 64, 3)\n"
     ]
    }
   ],
   "source": [
    "# Split into training and testing set\n",
    "split_point = int(len(images)*0.82)\n",
    "test_img=list(images[:-split_point])\n",
    "test_labels=list(labels[:-split_point])\n",
    "train_img=list(images[:split_point])\n",
    "train_labels=list(labels[:split_point])\n",
    "train_img=np.array(train_img)\n",
    "test_img=np.array(test_img)\n",
    "train_labels=np.array(train_labels)\n",
    "test_labels=np.array(test_labels)\n",
    "print(train_img.shape)\n",
    "print(test_img.shape)"
   ]
  },
  {
   "cell_type": "code",
   "execution_count": 13,
   "metadata": {
    "colab": {
     "autoexec": {
      "startup": false,
      "wait_interval": 0
     },
     "base_uri": "https://localhost:8080/",
     "height": 51
    },
    "colab_type": "code",
    "executionInfo": {
     "elapsed": 10525,
     "status": "ok",
     "timestamp": 1533309104291,
     "user": {
      "displayName": "Hari Krishnan",
      "photoUrl": "https://lh3.googleusercontent.com/a/default-user=s128",
      "userId": "116369642993621286939"
     },
     "user_tz": -330
    },
    "id": "iaDBeFdA-4y3",
    "outputId": "794d24e5-3aff-452a-ccb6-55f872221729"
   },
   "outputs": [
    {
     "name": "stdout",
     "output_type": "stream",
     "text": [
      "Downloading data from https://github.com/fchollet/deep-learning-models/releases/download/v0.1/vgg16_weights_tf_dim_ordering_tf_kernels_notop.h5\n",
      "58892288/58889256 [==============================] - 8s 0us/step\n"
     ]
    }
   ],
   "source": [
    "input_shape=images.shape[1:]\n",
    "base_model = VGG16(weights='imagenet',include_top=False,input_shape=input_shape)"
   ]
  },
  {
   "cell_type": "code",
   "execution_count": 0,
   "metadata": {
    "colab": {
     "autoexec": {
      "startup": false,
      "wait_interval": 0
     }
    },
    "colab_type": "code",
    "collapsed": true,
    "id": "4sCVbpYy_HG8"
   },
   "outputs": [],
   "source": [
    "for layer in base_model.layers:\n",
    "    layer.trainable=False"
   ]
  },
  {
   "cell_type": "code",
   "execution_count": 0,
   "metadata": {
    "colab": {
     "autoexec": {
      "startup": false,
      "wait_interval": 0
     }
    },
    "colab_type": "code",
    "collapsed": true,
    "id": "Dh7Gq30B_1e0"
   },
   "outputs": [],
   "source": [
    "num_classes=120\n",
    "model = Sequential()\n",
    "\n",
    "model.add(base_model)\n",
    "model.add(Flatten())\n",
    "model.add(Dropout(0.2))\n",
    "\n",
    "model.add(Dense(1024, activation='relu'))\n",
    "model.add(Dense(120, activation='softmax'))\n",
    "model.compile(loss=losses.categorical_crossentropy,\n",
    "              optimizer=optimizers.Adam(lr=0.0001),\n",
    "              metrics=['accuracy'])"
   ]
  },
  {
   "cell_type": "code",
   "execution_count": 16,
   "metadata": {
    "colab": {
     "autoexec": {
      "startup": false,
      "wait_interval": 0
     },
     "base_uri": "https://localhost:8080/",
     "height": 3434
    },
    "colab_type": "code",
    "executionInfo": {
     "elapsed": 1025112,
     "status": "ok",
     "timestamp": 1533310134373,
     "user": {
      "displayName": "Hari Krishnan",
      "photoUrl": "https://lh3.googleusercontent.com/a/default-user=s128",
      "userId": "116369642993621286939"
     },
     "user_tz": -330
    },
    "id": "iKneLovm4Ac1",
    "outputId": "5183ad0d-f468-449c-baf8-f9334cdeb090"
   },
   "outputs": [
    {
     "name": "stdout",
     "output_type": "stream",
     "text": [
      "Epoch 1/100\n",
      " - 13s - loss: 15.5621 - acc: 0.0147\n",
      "Epoch 2/100\n",
      " - 10s - loss: 14.9359 - acc: 0.0495\n",
      "Epoch 3/100\n",
      " - 10s - loss: 14.4510 - acc: 0.0783\n",
      "Epoch 4/100\n",
      " - 10s - loss: 13.9665 - acc: 0.1051\n",
      "Epoch 5/100\n",
      " - 10s - loss: 13.5630 - acc: 0.1275\n",
      "Epoch 6/100\n",
      " - 10s - loss: 13.1795 - acc: 0.1479\n",
      "Epoch 7/100\n",
      " - 10s - loss: 12.7898 - acc: 0.1719\n",
      "Epoch 8/100\n",
      " - 10s - loss: 12.3288 - acc: 0.1992\n",
      "Epoch 9/100\n",
      " - 10s - loss: 11.9052 - acc: 0.2232\n",
      "Epoch 10/100\n",
      " - 10s - loss: 11.6021 - acc: 0.2399\n",
      "Epoch 11/100\n",
      " - 10s - loss: 11.2165 - acc: 0.2603\n",
      "Epoch 12/100\n",
      " - 10s - loss: 10.7619 - acc: 0.2857\n",
      "Epoch 13/100\n",
      " - 10s - loss: 10.3778 - acc: 0.3079\n",
      "Epoch 14/100\n",
      " - 10s - loss: 10.0349 - acc: 0.3289\n",
      "Epoch 15/100\n",
      " - 10s - loss: 9.7023 - acc: 0.3426\n",
      "Epoch 16/100\n",
      " - 10s - loss: 9.2960 - acc: 0.3704\n",
      "Epoch 17/100\n",
      " - 10s - loss: 8.8886 - acc: 0.3901\n",
      "Epoch 18/100\n",
      " - 10s - loss: 8.4878 - acc: 0.4042\n",
      "Epoch 19/100\n",
      " - 10s - loss: 7.9204 - acc: 0.4353\n",
      "Epoch 20/100\n",
      " - 10s - loss: 7.4405 - acc: 0.4588\n",
      "Epoch 21/100\n",
      " - 10s - loss: 6.9217 - acc: 0.4752\n",
      "Epoch 22/100\n",
      " - 10s - loss: 6.3539 - acc: 0.4963\n",
      "Epoch 23/100\n",
      " - 10s - loss: 5.6946 - acc: 0.5222\n",
      "Epoch 24/100\n",
      " - 10s - loss: 5.0949 - acc: 0.5350\n",
      "Epoch 25/100\n",
      " - 10s - loss: 4.4309 - acc: 0.5624\n",
      "Epoch 26/100\n",
      " - 10s - loss: 3.8870 - acc: 0.5857\n",
      "Epoch 27/100\n",
      " - 10s - loss: 3.4102 - acc: 0.6197\n",
      "Epoch 28/100\n",
      " - 10s - loss: 2.9516 - acc: 0.6471\n",
      "Epoch 29/100\n",
      " - 10s - loss: 2.5804 - acc: 0.6813\n",
      "Epoch 30/100\n",
      " - 10s - loss: 2.2421 - acc: 0.7158\n",
      "Epoch 31/100\n",
      " - 10s - loss: 1.9801 - acc: 0.7513\n",
      "Epoch 32/100\n",
      " - 10s - loss: 1.7592 - acc: 0.7761\n",
      "Epoch 33/100\n",
      " - 10s - loss: 1.5542 - acc: 0.7996\n",
      "Epoch 34/100\n",
      " - 10s - loss: 1.4065 - acc: 0.8230\n",
      "Epoch 35/100\n",
      " - 10s - loss: 1.2701 - acc: 0.8440\n",
      "Epoch 36/100\n",
      " - 10s - loss: 1.1667 - acc: 0.8571\n",
      "Epoch 37/100\n",
      " - 10s - loss: 1.1136 - acc: 0.8710\n",
      "Epoch 38/100\n",
      " - 10s - loss: 1.0424 - acc: 0.8845\n",
      "Epoch 39/100\n",
      " - 10s - loss: 0.9782 - acc: 0.8927\n",
      "Epoch 40/100\n",
      " - 10s - loss: 0.9472 - acc: 0.8947\n",
      "Epoch 41/100\n",
      " - 10s - loss: 0.9277 - acc: 0.8984\n",
      "Epoch 42/100\n",
      " - 10s - loss: 0.8861 - acc: 0.9044\n",
      "Epoch 43/100\n",
      " - 10s - loss: 0.8534 - acc: 0.9078\n",
      "Epoch 44/100\n",
      " - 10s - loss: 0.8132 - acc: 0.9151\n",
      "Epoch 45/100\n",
      " - 10s - loss: 0.7581 - acc: 0.9208\n",
      "Epoch 46/100\n",
      " - 10s - loss: 0.7245 - acc: 0.9247\n",
      "Epoch 47/100\n",
      " - 10s - loss: 0.7101 - acc: 0.9251\n",
      "Epoch 48/100\n",
      " - 10s - loss: 0.6834 - acc: 0.9272\n",
      "Epoch 49/100\n",
      " - 10s - loss: 0.6574 - acc: 0.9325\n",
      "Epoch 50/100\n",
      " - 10s - loss: 0.6446 - acc: 0.9345\n",
      "Epoch 51/100\n",
      " - 10s - loss: 0.6299 - acc: 0.9399\n",
      "Epoch 52/100\n",
      " - 10s - loss: 0.6290 - acc: 0.9352\n",
      "Epoch 53/100\n",
      " - 10s - loss: 0.6137 - acc: 0.9394\n",
      "Epoch 54/100\n",
      " - 10s - loss: 0.6158 - acc: 0.9401\n",
      "Epoch 55/100\n",
      " - 10s - loss: 0.6119 - acc: 0.9376\n",
      "Epoch 56/100\n",
      " - 10s - loss: 0.5946 - acc: 0.9407\n",
      "Epoch 57/100\n",
      " - 10s - loss: 0.5672 - acc: 0.9444\n",
      "Epoch 58/100\n",
      " - 10s - loss: 0.5649 - acc: 0.9425\n",
      "Epoch 59/100\n",
      " - 10s - loss: 0.5291 - acc: 0.9468\n",
      "Epoch 60/100\n",
      " - 10s - loss: 0.5113 - acc: 0.9499\n",
      "Epoch 61/100\n",
      " - 10s - loss: 0.4998 - acc: 0.9497\n",
      "Epoch 62/100\n",
      " - 10s - loss: 0.4775 - acc: 0.9545\n",
      "Epoch 63/100\n",
      " - 10s - loss: 0.4894 - acc: 0.9536\n",
      "Epoch 64/100\n",
      " - 10s - loss: 0.4644 - acc: 0.9547\n",
      "Epoch 65/100\n",
      " - 10s - loss: 0.4627 - acc: 0.9566\n",
      "Epoch 66/100\n",
      " - 10s - loss: 0.4543 - acc: 0.9575\n",
      "Epoch 67/100\n",
      " - 10s - loss: 0.4516 - acc: 0.9575\n",
      "Epoch 68/100\n",
      " - 10s - loss: 0.4463 - acc: 0.9561\n",
      "Epoch 69/100\n",
      " - 10s - loss: 0.4433 - acc: 0.9582\n",
      "Epoch 70/100\n",
      " - 10s - loss: 0.4250 - acc: 0.9616\n",
      "Epoch 71/100\n",
      " - 10s - loss: 0.4472 - acc: 0.9563\n",
      "Epoch 72/100\n",
      " - 10s - loss: 0.4132 - acc: 0.9633\n",
      "Epoch 73/100\n",
      " - 10s - loss: 0.4194 - acc: 0.9619\n",
      "Epoch 74/100\n",
      " - 10s - loss: 0.4184 - acc: 0.9623\n",
      "Epoch 75/100\n",
      " - 10s - loss: 0.4074 - acc: 0.9618\n",
      "Epoch 76/100\n",
      " - 10s - loss: 0.4264 - acc: 0.9609\n",
      "Epoch 77/100\n",
      " - 10s - loss: 0.4121 - acc: 0.9611\n",
      "Epoch 78/100\n",
      " - 10s - loss: 0.4253 - acc: 0.9615\n",
      "Epoch 79/100\n",
      " - 10s - loss: 0.4023 - acc: 0.9635\n",
      "Epoch 80/100\n",
      " - 10s - loss: 0.3934 - acc: 0.9650\n",
      "Epoch 81/100\n",
      " - 10s - loss: 0.4168 - acc: 0.9596\n",
      "Epoch 82/100\n",
      " - 10s - loss: 0.3982 - acc: 0.9636\n",
      "Epoch 83/100\n",
      " - 10s - loss: 0.4023 - acc: 0.9630\n",
      "Epoch 84/100\n",
      " - 10s - loss: 0.3774 - acc: 0.9662\n",
      "Epoch 85/100\n",
      " - 10s - loss: 0.3831 - acc: 0.9654\n",
      "Epoch 86/100\n",
      " - 10s - loss: 0.3656 - acc: 0.9656\n",
      "Epoch 87/100\n",
      " - 10s - loss: 0.3765 - acc: 0.9658\n",
      "Epoch 88/100\n",
      " - 10s - loss: 0.3785 - acc: 0.9658\n",
      "Epoch 89/100\n",
      " - 10s - loss: 0.3728 - acc: 0.9652\n",
      "Epoch 90/100\n",
      " - 10s - loss: 0.3486 - acc: 0.9699\n",
      "Epoch 91/100\n",
      " - 10s - loss: 0.3639 - acc: 0.9666\n",
      "Epoch 92/100\n",
      " - 10s - loss: 0.3501 - acc: 0.9687\n",
      "Epoch 93/100\n",
      " - 10s - loss: 0.3412 - acc: 0.9708\n",
      "Epoch 94/100\n",
      " - 10s - loss: 0.3379 - acc: 0.9709\n",
      "Epoch 95/100\n",
      " - 10s - loss: 0.3624 - acc: 0.9685\n",
      "Epoch 96/100\n",
      " - 10s - loss: 0.3361 - acc: 0.9715\n",
      "Epoch 97/100\n",
      " - 10s - loss: 0.3392 - acc: 0.9714\n",
      "Epoch 98/100\n",
      " - 10s - loss: 0.3391 - acc: 0.9705\n",
      "Epoch 99/100\n",
      " - 10s - loss: 0.3333 - acc: 0.9704\n",
      "Epoch 100/100\n",
      " - 10s - loss: 0.3338 - acc: 0.9708\n"
     ]
    },
    {
     "data": {
      "text/plain": [
       "<keras.callbacks.History at 0x7f97d9071080>"
      ]
     },
     "execution_count": 16,
     "metadata": {
      "tags": []
     },
     "output_type": "execute_result"
    }
   ],
   "source": [
    "model.fit(train_img,train_labels,epochs=100,verbose=2)"
   ]
  },
  {
   "cell_type": "code",
   "execution_count": 0,
   "metadata": {
    "colab": {
     "autoexec": {
      "startup": false,
      "wait_interval": 0
     },
     "base_uri": "https://localhost:8080/",
     "height": 51
    },
    "colab_type": "code",
    "executionInfo": {
     "elapsed": 3993,
     "status": "ok",
     "timestamp": 1533267091597,
     "user": {
      "displayName": "Hari Krishnan",
      "photoUrl": "https://lh3.googleusercontent.com/a/default-user=s128",
      "userId": "116369642993621286939"
     },
     "user_tz": -330
    },
    "id": "SOCAJF-n5Bks",
    "outputId": "1d1cc870-4cf4-4119-8e0a-19f205b5d18e"
   },
   "outputs": [
    {
     "name": "stdout",
     "output_type": "stream",
     "text": [
      "1840/1840 [==============================] - 3s 2ms/step\n"
     ]
    },
    {
     "data": {
      "text/plain": [
       "[0.02633377649912607, 0.9983695652173913]"
      ]
     },
     "execution_count": 13,
     "metadata": {
      "tags": []
     },
     "output_type": "execute_result"
    }
   ],
   "source": [
    "model.evaluate(test_img,test_labels)"
   ]
  },
  {
   "cell_type": "code",
   "execution_count": 0,
   "metadata": {
    "colab": {
     "autoexec": {
      "startup": false,
      "wait_interval": 0
     }
    },
    "colab_type": "code",
    "collapsed": true,
    "id": "p-b6iQ5-Xbzi"
   },
   "outputs": [],
   "source": [
    "model.save('breed.h5')"
   ]
  },
  {
   "cell_type": "code",
   "execution_count": 0,
   "metadata": {
    "colab": {
     "autoexec": {
      "startup": false,
      "wait_interval": 0
     }
    },
    "colab_type": "code",
    "collapsed": true,
    "id": "zpEWEuE72ZKe"
   },
   "outputs": [],
   "source": [
    "files.download('breed.h5')"
   ]
  }
 ],
 "metadata": {
  "accelerator": "GPU",
  "colab": {
   "collapsed_sections": [],
   "default_view": {},
   "name": "VGG16 Keras Dog Breed.ipynb",
   "provenance": [],
   "version": "0.3.2",
   "views": {}
  },
  "kernelspec": {
   "display_name": "Python 3",
   "language": "python",
   "name": "python3"
  },
  "language_info": {
   "codemirror_mode": {
    "name": "ipython",
    "version": 3
   },
   "file_extension": ".py",
   "mimetype": "text/x-python",
   "name": "python",
   "nbconvert_exporter": "python",
   "pygments_lexer": "ipython3",
   "version": "3.6.3"
  }
 },
 "nbformat": 4,
 "nbformat_minor": 1
}
