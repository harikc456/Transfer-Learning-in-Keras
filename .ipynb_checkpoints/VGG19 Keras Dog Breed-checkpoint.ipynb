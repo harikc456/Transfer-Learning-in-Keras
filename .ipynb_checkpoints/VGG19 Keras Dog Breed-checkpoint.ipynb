{
 "cells": [
  {
   "cell_type": "code",
   "execution_count": 1,
   "metadata": {
    "colab": {
     "autoexec": {
      "startup": false,
      "wait_interval": 0
     },
     "base_uri": "https://localhost:8080/",
     "height": 34
    },
    "colab_type": "code",
    "executionInfo": {
     "elapsed": 1965,
     "status": "ok",
     "timestamp": 1533312511046,
     "user": {
      "displayName": "Hari Krishnan",
      "photoUrl": "https://lh3.googleusercontent.com/a/default-user=s128",
      "userId": "116369642993621286939"
     },
     "user_tz": -330
    },
    "id": "TPgogXk6c_NA",
    "outputId": "054aa7d9-40e8-4597-ab29-6c4925345123"
   },
   "outputs": [
    {
     "name": "stderr",
     "output_type": "stream",
     "text": [
      "Using TensorFlow backend.\n"
     ]
    }
   ],
   "source": [
    "import numpy as np\n",
    "import os\n",
    "import pickle\n",
    "from keras.models import Sequential\n",
    "from keras.layers import Dense, Dropout, Flatten\n",
    "from keras.layers import Conv2D, MaxPooling2D,Activation\n",
    "from keras.layers.normalization import BatchNormalization\n",
    "from keras import optimizers\n",
    "from keras import losses\n",
    "from keras.applications.vgg19 import VGG19"
   ]
  },
  {
   "cell_type": "code",
   "execution_count": 0,
   "metadata": {
    "colab": {
     "autoexec": {
      "startup": false,
      "wait_interval": 0
     }
    },
    "colab_type": "code",
    "collapsed": true,
    "id": "gfUD4gwpdGtD"
   },
   "outputs": [],
   "source": [
    "f=open('train_data1.npz','rb')\n",
    "npzfile = np.load(f)\n",
    "images=npzfile['arr_0']\n",
    "labels=npzfile['arr_1']"
   ]
  },
  {
   "cell_type": "code",
   "execution_count": 0,
   "metadata": {
    "colab": {
     "autoexec": {
      "startup": false,
      "wait_interval": 0
     },
     "base_uri": "https://localhost:8080/",
     "height": 51
    },
    "colab_type": "code",
    "executionInfo": {
     "elapsed": 1335,
     "status": "ok",
     "timestamp": 1533265207879,
     "user": {
      "displayName": "Hari Krishnan",
      "photoUrl": "https://lh3.googleusercontent.com/a/default-user=s128",
      "userId": "116369642993621286939"
     },
     "user_tz": -330
    },
    "id": "F4a0Nveh9vTB",
    "outputId": "baf058bc-d8bf-4ea2-b895-b19cc0be4b2f"
   },
   "outputs": [
    {
     "name": "stdout",
     "output_type": "stream",
     "text": [
      "(8382, 64, 64, 3)\n",
      "(1840, 64, 64, 3)\n"
     ]
    }
   ],
   "source": [
    "# Split into training and testing set\n",
    "split_point = int(len(images)*0.82)\n",
    "test_img=list(images[:-split_point])\n",
    "test_labels=list(labels[:-split_point])\n",
    "train_img=list(images[:split_point])\n",
    "train_labels=list(labels[:split_point])\n",
    "train_img=np.array(train_img)\n",
    "test_img=np.array(test_img)\n",
    "train_labels=np.array(train_labels)\n",
    "test_labels=np.array(test_labels)\n",
    "print(train_img.shape)\n",
    "print(test_img.shape)"
   ]
  },
  {
   "cell_type": "code",
   "execution_count": 0,
   "metadata": {
    "colab": {
     "autoexec": {
      "startup": false,
      "wait_interval": 0
     },
     "base_uri": "https://localhost:8080/",
     "height": 51
    },
    "colab_type": "code",
    "executionInfo": {
     "elapsed": 6910,
     "status": "ok",
     "timestamp": 1533265214994,
     "user": {
      "displayName": "Hari Krishnan",
      "photoUrl": "https://lh3.googleusercontent.com/a/default-user=s128",
      "userId": "116369642993621286939"
     },
     "user_tz": -330
    },
    "id": "iaDBeFdA-4y3",
    "outputId": "a8a36fa0-c054-4a80-a6a7-7380453c4454"
   },
   "outputs": [
    {
     "name": "stdout",
     "output_type": "stream",
     "text": [
      "Downloading data from https://github.com/fchollet/deep-learning-models/releases/download/v0.1/vgg19_weights_tf_dim_ordering_tf_kernels_notop.h5\n",
      "80142336/80134624 [==============================] - 4s 0us/step\n"
     ]
    }
   ],
   "source": [
    "input_shape=images.shape[1:]\n",
    "base_model = VGG19(weights='imagenet',include_top=False,input_shape=input_shape)"
   ]
  },
  {
   "cell_type": "code",
   "execution_count": 0,
   "metadata": {
    "colab": {
     "autoexec": {
      "startup": false,
      "wait_interval": 0
     }
    },
    "colab_type": "code",
    "collapsed": true,
    "id": "4sCVbpYy_HG8"
   },
   "outputs": [],
   "source": [
    "for layer in base_model.layers:\n",
    "    layer.trainable=False"
   ]
  },
  {
   "cell_type": "code",
   "execution_count": 0,
   "metadata": {
    "colab": {
     "autoexec": {
      "startup": false,
      "wait_interval": 0
     }
    },
    "colab_type": "code",
    "collapsed": true,
    "id": "Dh7Gq30B_1e0"
   },
   "outputs": [],
   "source": [
    "num_classes=120\n",
    "model = Sequential()\n",
    "\n",
    "model.add(base_model)\n",
    "model.add(Flatten())\n",
    "model.add(Dropout(0.2))\n",
    "model.add(Dense(1024, activation='relu'))\n",
    "model.add(Dense(120, activation='softmax'))\n",
    "model.compile(loss=losses.categorical_crossentropy,\n",
    "              optimizer=optimizers.Adam(lr=0.0001),\n",
    "              metrics=['accuracy'])"
   ]
  },
  {
   "cell_type": "code",
   "execution_count": 0,
   "metadata": {
    "colab": {
     "autoexec": {
      "startup": false,
      "wait_interval": 0
     },
     "base_uri": "https://localhost:8080/",
     "height": 102
    },
    "colab_type": "code",
    "id": "iKneLovm4Ac1",
    "outputId": "2d56d0e9-6d6e-4e3d-f342-f029324f6be9"
   },
   "outputs": [
    {
     "name": "stdout",
     "output_type": "stream",
     "text": [
      "Epoch 1/100\n",
      " - 13s - loss: 0.0719 - acc: 0.9888\n",
      "Epoch 2/100\n",
      " - 12s - loss: 0.0817 - acc: 0.9860\n",
      "Epoch 3/100\n"
     ]
    }
   ],
   "source": [
    "model.fit(train_img,train_labels,epochs=100,verbose=2)"
   ]
  },
  {
   "cell_type": "code",
   "execution_count": 0,
   "metadata": {
    "colab": {
     "autoexec": {
      "startup": false,
      "wait_interval": 0
     },
     "base_uri": "https://localhost:8080/",
     "height": 51
    },
    "colab_type": "code",
    "executionInfo": {
     "elapsed": 3993,
     "status": "ok",
     "timestamp": 1533267091597,
     "user": {
      "displayName": "Hari Krishnan",
      "photoUrl": "https://lh3.googleusercontent.com/a/default-user=s128",
      "userId": "116369642993621286939"
     },
     "user_tz": -330
    },
    "id": "SOCAJF-n5Bks",
    "outputId": "1d1cc870-4cf4-4119-8e0a-19f205b5d18e"
   },
   "outputs": [
    {
     "name": "stdout",
     "output_type": "stream",
     "text": [
      "1840/1840 [==============================] - 3s 2ms/step\n"
     ]
    },
    {
     "data": {
      "text/plain": [
       "[0.02633377649912607, 0.9983695652173913]"
      ]
     },
     "execution_count": 13,
     "metadata": {
      "tags": []
     },
     "output_type": "execute_result"
    }
   ],
   "source": [
    "model.evaluate(test_img,test_labels)"
   ]
  },
  {
   "cell_type": "code",
   "execution_count": 0,
   "metadata": {
    "colab": {
     "autoexec": {
      "startup": false,
      "wait_interval": 0
     }
    },
    "colab_type": "code",
    "collapsed": true,
    "id": "p-b6iQ5-Xbzi"
   },
   "outputs": [],
   "source": [
    "model.save('breed.h5')"
   ]
  }
 ],
 "metadata": {
  "accelerator": "GPU",
  "colab": {
   "collapsed_sections": [],
   "default_view": {},
   "name": "VGG19 Keras Dog Breed.ipynb",
   "provenance": [],
   "version": "0.3.2",
   "views": {}
  },
  "kernelspec": {
   "display_name": "Python 3",
   "language": "python",
   "name": "python3"
  },
  "language_info": {
   "codemirror_mode": {
    "name": "ipython",
    "version": 3
   },
   "file_extension": ".py",
   "mimetype": "text/x-python",
   "name": "python",
   "nbconvert_exporter": "python",
   "pygments_lexer": "ipython3",
   "version": "3.6.3"
  }
 },
 "nbformat": 4,
 "nbformat_minor": 1
}
