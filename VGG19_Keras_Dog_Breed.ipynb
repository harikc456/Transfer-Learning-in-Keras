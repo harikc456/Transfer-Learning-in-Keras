{
 "cells": [
  {
   "cell_type": "code",
   "execution_count": 1,
   "metadata": {
    "colab": {
     "autoexec": {
      "startup": false,
      "wait_interval": 0
     },
     "base_uri": "https://localhost:8080/",
     "height": 34
    },
    "colab_type": "code",
    "executionInfo": {
     "elapsed": 9999,
     "status": "ok",
     "timestamp": 1533346371650,
     "user": {
      "displayName": "Hari Krishnan",
      "photoUrl": "https://lh3.googleusercontent.com/a/default-user=s128",
      "userId": "116369642993621286939"
     },
     "user_tz": -330
    },
    "id": "TPgogXk6c_NA",
    "outputId": "7744c550-a137-4b3e-a103-dd88e6a9a93d"
   },
   "outputs": [
    {
     "name": "stderr",
     "output_type": "stream",
     "text": [
      "Using TensorFlow backend.\n"
     ]
    }
   ],
   "source": [
    "import numpy as np\n",
    "import os\n",
    "import pickle\n",
    "from keras.models import Sequential\n",
    "from keras.layers import Dense, Dropout, Flatten\n",
    "from keras.layers import Conv2D, MaxPooling2D,Activation\n",
    "from keras.layers.normalization import BatchNormalization\n",
    "from keras import optimizers\n",
    "from keras import losses\n",
    "from keras.applications.vgg19 import VGG19"
   ]
  },
  {
   "cell_type": "code",
   "execution_count": 0,
   "metadata": {
    "colab": {
     "autoexec": {
      "startup": false,
      "wait_interval": 0
     }
    },
    "colab_type": "code",
    "collapsed": true,
    "id": "gfUD4gwpdGtD"
   },
   "outputs": [],
   "source": [
    "f=open('train_data1.npz','rb')\n",
    "npzfile = np.load(f)\n",
    "images=npzfile['arr_0']\n",
    "labels=npzfile['arr_1']"
   ]
  },
  {
   "cell_type": "code",
   "execution_count": 10,
   "metadata": {
    "colab": {
     "autoexec": {
      "startup": false,
      "wait_interval": 0
     },
     "base_uri": "https://localhost:8080/",
     "height": 51
    },
    "colab_type": "code",
    "executionInfo": {
     "elapsed": 2879,
     "status": "ok",
     "timestamp": 1533346816580,
     "user": {
      "displayName": "Hari Krishnan",
      "photoUrl": "https://lh3.googleusercontent.com/a/default-user=s128",
      "userId": "116369642993621286939"
     },
     "user_tz": -330
    },
    "id": "F4a0Nveh9vTB",
    "outputId": "9801c881-53ed-4821-9a17-20884ff0742a"
   },
   "outputs": [
    {
     "name": "stdout",
     "output_type": "stream",
     "text": [
      "(8382, 64, 64, 3)\n",
      "(1840, 64, 64, 3)\n"
     ]
    }
   ],
   "source": [
    "# Split into training and testing set\n",
    "split_point = int(len(images)*0.82)\n",
    "test_img=list(images[:-split_point])\n",
    "test_labels=list(labels[:-split_point])\n",
    "train_img=list(images[:split_point])\n",
    "train_labels=list(labels[:split_point])\n",
    "train_img=np.array(train_img)\n",
    "test_img=np.array(test_img)\n",
    "train_labels=np.array(train_labels)\n",
    "test_labels=np.array(test_labels)\n",
    "print(train_img.shape)\n",
    "print(test_img.shape)"
   ]
  },
  {
   "cell_type": "code",
   "execution_count": 11,
   "metadata": {
    "colab": {
     "autoexec": {
      "startup": false,
      "wait_interval": 0
     },
     "base_uri": "https://localhost:8080/",
     "height": 51
    },
    "colab_type": "code",
    "executionInfo": {
     "elapsed": 10922,
     "status": "ok",
     "timestamp": 1533346830307,
     "user": {
      "displayName": "Hari Krishnan",
      "photoUrl": "https://lh3.googleusercontent.com/a/default-user=s128",
      "userId": "116369642993621286939"
     },
     "user_tz": -330
    },
    "id": "iaDBeFdA-4y3",
    "outputId": "9d4ade12-f434-491d-c5be-d4f42b71d9d1"
   },
   "outputs": [
    {
     "name": "stdout",
     "output_type": "stream",
     "text": [
      "Downloading data from https://github.com/fchollet/deep-learning-models/releases/download/v0.1/vgg19_weights_tf_dim_ordering_tf_kernels_notop.h5\n",
      "80142336/80134624 [==============================] - 6s 0us/step\n"
     ]
    }
   ],
   "source": [
    "input_shape=images.shape[1:]\n",
    "base_model = VGG19(weights='imagenet',include_top=False,input_shape=input_shape)"
   ]
  },
  {
   "cell_type": "code",
   "execution_count": 0,
   "metadata": {
    "colab": {
     "autoexec": {
      "startup": false,
      "wait_interval": 0
     }
    },
    "colab_type": "code",
    "collapsed": true,
    "id": "4sCVbpYy_HG8"
   },
   "outputs": [],
   "source": [
    "for layer in base_model.layers:\n",
    "    layer.trainable=False"
   ]
  },
  {
   "cell_type": "code",
   "execution_count": 0,
   "metadata": {
    "colab": {
     "autoexec": {
      "startup": false,
      "wait_interval": 0
     }
    },
    "colab_type": "code",
    "collapsed": true,
    "id": "Dh7Gq30B_1e0"
   },
   "outputs": [],
   "source": [
    "num_classes=120\n",
    "model = Sequential()\n",
    "\n",
    "model.add(base_model)\n",
    "model.add(Flatten())\n",
    "model.add(Dropout(0.2))\n",
    "\n",
    "model.add(Dense(1024, activation='relu'))\n",
    "model.add(Dense(120, activation='softmax'))\n",
    "model.compile(loss=losses.categorical_crossentropy,\n",
    "              optimizer=optimizers.Adam(lr=0.0001),\n",
    "              metrics=['accuracy'])"
   ]
  },
  {
   "cell_type": "code",
   "execution_count": 14,
   "metadata": {
    "colab": {
     "autoexec": {
      "startup": false,
      "wait_interval": 0
     },
     "base_uri": "https://localhost:8080/",
     "height": 3434
    },
    "colab_type": "code",
    "executionInfo": {
     "elapsed": 1186633,
     "status": "ok",
     "timestamp": 1533348023290,
     "user": {
      "displayName": "Hari Krishnan",
      "photoUrl": "https://lh3.googleusercontent.com/a/default-user=s128",
      "userId": "116369642993621286939"
     },
     "user_tz": -330
    },
    "id": "iKneLovm4Ac1",
    "outputId": "8b87e73d-50a9-4dab-eda2-0c4df1c03b48"
   },
   "outputs": [
    {
     "name": "stdout",
     "output_type": "stream",
     "text": [
      "Epoch 1/100\n",
      " - 14s - loss: 15.5031 - acc: 0.0167\n",
      "Epoch 2/100\n",
      " - 12s - loss: 14.8643 - acc: 0.0506\n",
      "Epoch 3/100\n",
      " - 12s - loss: 14.2858 - acc: 0.0759\n",
      "Epoch 4/100\n",
      " - 12s - loss: 13.6491 - acc: 0.1141\n",
      "Epoch 5/100\n",
      " - 12s - loss: 13.1446 - acc: 0.1420\n",
      "Epoch 6/100\n",
      " - 12s - loss: 12.6372 - acc: 0.1698\n",
      "Epoch 7/100\n",
      " - 12s - loss: 12.0995 - acc: 0.2005\n",
      "Epoch 8/100\n",
      " - 12s - loss: 11.6255 - acc: 0.2244\n",
      "Epoch 9/100\n",
      " - 12s - loss: 11.1436 - acc: 0.2502\n",
      "Epoch 10/100\n",
      " - 12s - loss: 10.6525 - acc: 0.2769\n",
      "Epoch 11/100\n",
      " - 12s - loss: 10.0870 - acc: 0.3021\n",
      "Epoch 12/100\n",
      " - 12s - loss: 9.5401 - acc: 0.3234\n",
      "Epoch 13/100\n",
      " - 12s - loss: 8.8649 - acc: 0.3505\n",
      "Epoch 14/100\n",
      " - 12s - loss: 8.1018 - acc: 0.3818\n",
      "Epoch 15/100\n",
      " - 12s - loss: 7.3165 - acc: 0.4153\n",
      "Epoch 16/100\n",
      " - 12s - loss: 6.4037 - acc: 0.4346\n",
      "Epoch 17/100\n",
      " - 12s - loss: 5.4007 - acc: 0.4464\n",
      "Epoch 18/100\n",
      " - 12s - loss: 4.4518 - acc: 0.4653\n",
      "Epoch 19/100\n",
      " - 12s - loss: 3.6883 - acc: 0.4936\n",
      "Epoch 20/100\n",
      " - 12s - loss: 3.1166 - acc: 0.5315\n",
      "Epoch 21/100\n",
      " - 12s - loss: 2.5805 - acc: 0.5854\n",
      "Epoch 22/100\n",
      " - 12s - loss: 2.1886 - acc: 0.6403\n",
      "Epoch 23/100\n",
      " - 12s - loss: 1.8513 - acc: 0.6794\n",
      "Epoch 24/100\n",
      " - 12s - loss: 1.5510 - acc: 0.7249\n",
      "Epoch 25/100\n",
      " - 12s - loss: 1.3192 - acc: 0.7650\n",
      "Epoch 26/100\n",
      " - 12s - loss: 1.1418 - acc: 0.7943\n",
      "Epoch 27/100\n",
      " - 12s - loss: 1.0041 - acc: 0.8169\n",
      "Epoch 28/100\n",
      " - 12s - loss: 0.8886 - acc: 0.8395\n",
      "Epoch 29/100\n",
      " - 12s - loss: 0.7666 - acc: 0.8592\n",
      "Epoch 30/100\n",
      " - 12s - loss: 0.6621 - acc: 0.8827\n",
      "Epoch 31/100\n",
      " - 12s - loss: 0.5872 - acc: 0.8950\n",
      "Epoch 32/100\n",
      " - 12s - loss: 0.5458 - acc: 0.9026\n",
      "Epoch 33/100\n",
      " - 12s - loss: 0.5190 - acc: 0.9133\n",
      "Epoch 34/100\n",
      " - 12s - loss: 0.4837 - acc: 0.9194\n",
      "Epoch 35/100\n",
      " - 12s - loss: 0.4561 - acc: 0.9219\n",
      "Epoch 36/100\n",
      " - 12s - loss: 0.4282 - acc: 0.9271\n",
      "Epoch 37/100\n",
      " - 12s - loss: 0.4135 - acc: 0.9291\n",
      "Epoch 38/100\n",
      " - 12s - loss: 0.3866 - acc: 0.9400\n",
      "Epoch 39/100\n",
      " - 12s - loss: 0.3693 - acc: 0.9443\n",
      "Epoch 40/100\n",
      " - 12s - loss: 0.3580 - acc: 0.9438\n",
      "Epoch 41/100\n",
      " - 12s - loss: 0.3456 - acc: 0.9498\n",
      "Epoch 42/100\n",
      " - 12s - loss: 0.3609 - acc: 0.9423\n",
      "Epoch 43/100\n",
      " - 12s - loss: 0.3364 - acc: 0.9471\n",
      "Epoch 44/100\n",
      " - 12s - loss: 0.3185 - acc: 0.9535\n",
      "Epoch 45/100\n",
      " - 12s - loss: 0.3149 - acc: 0.9538\n",
      "Epoch 46/100\n",
      " - 12s - loss: 0.3054 - acc: 0.9538\n",
      "Epoch 47/100\n",
      " - 12s - loss: 0.3023 - acc: 0.9543\n",
      "Epoch 48/100\n",
      " - 12s - loss: 0.3077 - acc: 0.9566\n",
      "Epoch 49/100\n",
      " - 12s - loss: 0.2758 - acc: 0.9613\n",
      "Epoch 50/100\n",
      " - 12s - loss: 0.2592 - acc: 0.9647\n",
      "Epoch 51/100\n",
      " - 12s - loss: 0.2595 - acc: 0.9636\n",
      "Epoch 52/100\n",
      " - 12s - loss: 0.2609 - acc: 0.9646\n",
      "Epoch 53/100\n",
      " - 12s - loss: 0.2670 - acc: 0.9640\n",
      "Epoch 54/100\n",
      " - 12s - loss: 0.2426 - acc: 0.9649\n",
      "Epoch 55/100\n",
      " - 12s - loss: 0.2525 - acc: 0.9668\n",
      "Epoch 56/100\n",
      " - 12s - loss: 0.2374 - acc: 0.9693\n",
      "Epoch 57/100\n",
      " - 12s - loss: 0.2426 - acc: 0.9667\n",
      "Epoch 58/100\n",
      " - 12s - loss: 0.2331 - acc: 0.9683\n",
      "Epoch 59/100\n",
      " - 12s - loss: 0.2302 - acc: 0.9693\n",
      "Epoch 60/100\n",
      " - 12s - loss: 0.2392 - acc: 0.9691\n",
      "Epoch 61/100\n",
      " - 12s - loss: 0.2469 - acc: 0.9691\n",
      "Epoch 62/100\n",
      " - 12s - loss: 0.2433 - acc: 0.9687\n",
      "Epoch 63/100\n",
      " - 12s - loss: 0.2315 - acc: 0.9704\n",
      "Epoch 64/100\n",
      " - 12s - loss: 0.2291 - acc: 0.9710\n",
      "Epoch 65/100\n",
      " - 12s - loss: 0.2163 - acc: 0.9717\n",
      "Epoch 66/100\n",
      " - 12s - loss: 0.2121 - acc: 0.9741\n",
      "Epoch 67/100\n",
      " - 12s - loss: 0.2164 - acc: 0.9742\n",
      "Epoch 68/100\n",
      " - 12s - loss: 0.2250 - acc: 0.9716\n",
      "Epoch 69/100\n",
      " - 12s - loss: 0.2173 - acc: 0.9722\n",
      "Epoch 70/100\n",
      " - 12s - loss: 0.2063 - acc: 0.9754\n",
      "Epoch 71/100\n",
      " - 12s - loss: 0.1966 - acc: 0.9779\n",
      "Epoch 72/100\n",
      " - 12s - loss: 0.1991 - acc: 0.9765\n",
      "Epoch 73/100\n",
      " - 12s - loss: 0.2063 - acc: 0.9746\n",
      "Epoch 74/100\n",
      " - 12s - loss: 0.2023 - acc: 0.9751\n",
      "Epoch 75/100\n",
      " - 12s - loss: 0.2056 - acc: 0.9752\n",
      "Epoch 76/100\n",
      " - 12s - loss: 0.2107 - acc: 0.9753\n",
      "Epoch 77/100\n",
      " - 12s - loss: 0.1960 - acc: 0.9773\n",
      "Epoch 78/100\n",
      " - 12s - loss: 0.2057 - acc: 0.9747\n",
      "Epoch 79/100\n",
      " - 12s - loss: 0.1992 - acc: 0.9765\n",
      "Epoch 80/100\n",
      " - 12s - loss: 0.1990 - acc: 0.9764\n",
      "Epoch 81/100\n",
      " - 12s - loss: 0.1926 - acc: 0.9789\n",
      "Epoch 82/100\n",
      " - 12s - loss: 0.1766 - acc: 0.9809\n",
      "Epoch 83/100\n",
      " - 12s - loss: 0.1976 - acc: 0.9773\n",
      "Epoch 84/100\n",
      " - 12s - loss: 0.1922 - acc: 0.9786\n",
      "Epoch 85/100\n",
      " - 12s - loss: 0.1731 - acc: 0.9814\n",
      "Epoch 86/100\n",
      " - 12s - loss: 0.1766 - acc: 0.9812\n",
      "Epoch 87/100\n",
      " - 12s - loss: 0.1916 - acc: 0.9791\n",
      "Epoch 88/100\n",
      " - 12s - loss: 0.1911 - acc: 0.9775\n",
      "Epoch 89/100\n",
      " - 12s - loss: 0.1862 - acc: 0.9804\n",
      "Epoch 90/100\n",
      " - 12s - loss: 0.1854 - acc: 0.9801\n",
      "Epoch 91/100\n",
      " - 12s - loss: 0.1938 - acc: 0.9775\n",
      "Epoch 92/100\n",
      " - 12s - loss: 0.1786 - acc: 0.9801\n",
      "Epoch 93/100\n",
      " - 12s - loss: 0.1774 - acc: 0.9798\n",
      "Epoch 94/100\n",
      " - 12s - loss: 0.1719 - acc: 0.9825\n",
      "Epoch 95/100\n",
      " - 12s - loss: 0.1716 - acc: 0.9812\n",
      "Epoch 96/100\n",
      " - 12s - loss: 0.1819 - acc: 0.9806\n",
      "Epoch 97/100\n",
      " - 12s - loss: 0.1847 - acc: 0.9817\n",
      "Epoch 98/100\n",
      " - 12s - loss: 0.1703 - acc: 0.9823\n",
      "Epoch 99/100\n",
      " - 12s - loss: 0.1735 - acc: 0.9820\n",
      "Epoch 100/100\n",
      " - 12s - loss: 0.1881 - acc: 0.9780\n"
     ]
    },
    {
     "data": {
      "text/plain": [
       "<keras.callbacks.History at 0x7f0f090bed68>"
      ]
     },
     "execution_count": 14,
     "metadata": {
      "tags": []
     },
     "output_type": "execute_result"
    }
   ],
   "source": [
    "model.fit(train_img,train_labels,epochs=100,verbose=2)"
   ]
  },
  {
   "cell_type": "code",
   "execution_count": 15,
   "metadata": {
    "colab": {
     "autoexec": {
      "startup": false,
      "wait_interval": 0
     },
     "base_uri": "https://localhost:8080/",
     "height": 51
    },
    "colab_type": "code",
    "executionInfo": {
     "elapsed": 19415,
     "status": "ok",
     "timestamp": 1533348042869,
     "user": {
      "displayName": "Hari Krishnan",
      "photoUrl": "https://lh3.googleusercontent.com/a/default-user=s128",
      "userId": "116369642993621286939"
     },
     "user_tz": -330
    },
    "id": "SOCAJF-n5Bks",
    "outputId": "dc92cfbd-cf20-4036-8346-d98babb138dd"
   },
   "outputs": [
    {
     "name": "stdout",
     "output_type": "stream",
     "text": [
      "1840/1840 [==============================] - 3s 2ms/step\n"
     ]
    },
    {
     "data": {
      "text/plain": [
       "[0.16223146345748674, 0.9896739130434783]"
      ]
     },
     "execution_count": 15,
     "metadata": {
      "tags": []
     },
     "output_type": "execute_result"
    }
   ],
   "source": [
    "model.evaluate(test_img,test_labels)"
   ]
  },
  {
   "cell_type": "code",
   "execution_count": 0,
   "metadata": {
    "colab": {
     "autoexec": {
      "startup": false,
      "wait_interval": 0
     }
    },
    "colab_type": "code",
    "collapsed": true,
    "id": "p-b6iQ5-Xbzi"
   },
   "outputs": [],
   "source": [
    "model.save('breed.h5')"
   ]
  },
  {
   "cell_type": "code",
   "execution_count": 0,
   "metadata": {
    "colab": {
     "autoexec": {
      "startup": false,
      "wait_interval": 0
     }
    },
    "colab_type": "code",
    "collapsed": true,
    "id": "zpEWEuE72ZKe"
   },
   "outputs": [],
   "source": [
    "files.download('breed.h5')"
   ]
  }
 ],
 "metadata": {
  "accelerator": "GPU",
  "colab": {
   "collapsed_sections": [],
   "default_view": {},
   "name": "VGG19 Keras Dog Breed.ipynb",
   "provenance": [],
   "version": "0.3.2",
   "views": {}
  },
  "kernelspec": {
   "display_name": "Python 3",
   "language": "python",
   "name": "python3"
  },
  "language_info": {
   "codemirror_mode": {
    "name": "ipython",
    "version": 3
   },
   "file_extension": ".py",
   "mimetype": "text/x-python",
   "name": "python",
   "nbconvert_exporter": "python",
   "pygments_lexer": "ipython3",
   "version": "3.6.3"
  }
 },
 "nbformat": 4,
 "nbformat_minor": 1
}
